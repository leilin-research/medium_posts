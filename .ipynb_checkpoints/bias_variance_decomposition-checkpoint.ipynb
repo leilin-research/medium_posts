{
 "cells": [
  {
   "cell_type": "code",
   "execution_count": 28,
   "id": "251c29cd",
   "metadata": {},
   "outputs": [],
   "source": [
    "import scipy\n",
    "from mlxtend.evaluate import bias_variance_decomp\n",
    "from mlxtend.data import boston_housing_data\n",
    "from sklearn.model_selection import train_test_split\n",
    "from sklearn.metrics import mean_squared_error\n",
    "from sklearn.linear_model import LinearRegression\n",
    "import tensorflow as tf\n",
    "import numpy as np\n",
    "\n",
    "from scipy.stats import bootstrap\n",
    "\n",
    "import matplotlib.pyplot as plt"
   ]
  },
  {
   "cell_type": "markdown",
   "id": "7f37d939",
   "metadata": {},
   "source": [
    "## load data\n",
    "- http://rasbt.github.io/mlxtend/user_guide/data/boston_housing_data/#boston_housing_data-the-boston-housing-dataset-for-regression"
   ]
  },
  {
   "cell_type": "code",
   "execution_count": 29,
   "id": "8aedeb0e",
   "metadata": {},
   "outputs": [],
   "source": [
    "np.random.seed(1)\n",
    "tf.random.set_seed(1)\n",
    "\n",
    "\n",
    "X, y = boston_housing_data()\n",
    "X_train, X_test, y_train, y_test = train_test_split(X, y,\n",
    "                                                    test_size=0.3,\n",
    "                                                    random_state=123,\n",
    "                                                    shuffle=True)\n"
   ]
  },
  {
   "cell_type": "markdown",
   "id": "fcb6dd67",
   "metadata": {},
   "source": [
    "## Linear Regression"
   ]
  },
  {
   "cell_type": "code",
   "execution_count": 30,
   "id": "e3873d11",
   "metadata": {},
   "outputs": [
    {
     "name": "stdout",
     "output_type": "stream",
     "text": [
      "The model performance for training set\n",
      "--------------------------------------\n",
      "RMSE is 4.492698146979513\n",
      "R2 score is 0.76\n",
      "\n",
      "\n"
     ]
    }
   ],
   "source": [
    "reg_lr = LinearRegression()\n",
    "reg_lr.fit(X_train, y_train)\n",
    "\n",
    "# model evaluation for training set\n",
    "\n",
    "y_train_predict = reg_lr.predict(X_train)\n",
    "rmse = (np.sqrt(mean_squared_error(y_train, y_train_predict)))\n",
    "r2 = round(reg_all.score(X_train, y_train),2)\n",
    "\n",
    "print(\"The model performance for training set\")\n",
    "print(\"--------------------------------------\")\n",
    "print('RMSE is {}'.format(rmse))\n",
    "print('R2 score is {}'.format(r2))\n",
    "print(\"\\n\")"
   ]
  },
  {
   "cell_type": "code",
   "execution_count": 31,
   "id": "bab2eff1",
   "metadata": {},
   "outputs": [],
   "source": [
    "pred_error_lr = y_train_predict - y_train"
   ]
  },
  {
   "cell_type": "markdown",
   "id": "c66aedca",
   "metadata": {},
   "source": [
    "### mean prediction error"
   ]
  },
  {
   "cell_type": "code",
   "execution_count": 32,
   "id": "3a9a1d72",
   "metadata": {},
   "outputs": [
    {
     "data": {
      "image/png": "[encoded data removed]",
      "text/plain": [
       "<Figure size 640x480 with 1 Axes>"
      ]
     },
     "metadata": {},
     "output_type": "display_data"
    }
   ],
   "source": [
    "rng = np.random.default_rng()\n",
    "\n",
    "data = (pred_error_lr,)  # samples must be in a sequence\n",
    "res = bootstrap(data, np.mean, confidence_level=0.9,\n",
    "                random_state=rng)\n",
    "fig, ax = plt.subplots()\n",
    "ax.hist(res.bootstrap_distribution, bins=25)\n",
    "ax.set_title('Bootstrap Distribution')\n",
    "ax.set_xlabel('statistic value')\n",
    "ax.set_ylabel('frequency')\n",
    "plt.show()"
   ]
  },
  {
   "cell_type": "markdown",
   "id": "75bdeef0",
   "metadata": {},
   "source": [
    "### bias and variance decomposition"
   ]
  },
  {
   "cell_type": "markdown",
   "id": "4ebf1e4d",
   "metadata": {},
   "source": [
    "- on training dataset"
   ]
  },
  {
   "cell_type": "code",
   "execution_count": 34,
   "id": "2a858c4b",
   "metadata": {},
   "outputs": [
    {
     "name": "stdout",
     "output_type": "stream",
     "text": [
      "Average expected loss: 21.399\n",
      "Average bias: 20.196\n",
      "Average variance: 1.203\n"
     ]
    }
   ],
   "source": [
    "avg_expected_loss, avg_bias, avg_var = bias_variance_decomp(\n",
    "        reg_lr, X_train, y_train, X_train, y_train, \n",
    "        loss='mse',\n",
    "        random_seed=123)\n",
    "\n",
    "print('Average expected loss: %.3f' % avg_expected_loss)\n",
    "print('Average bias: %.3f' % avg_bias)\n",
    "print('Average variance: %.3f' % avg_var)"
   ]
  },
  {
   "cell_type": "markdown",
   "id": "9d2e1270",
   "metadata": {},
   "source": [
    "- on testing dataset"
   ]
  },
  {
   "cell_type": "code",
   "execution_count": 33,
   "id": "0f70cc1d",
   "metadata": {},
   "outputs": [
    {
     "name": "stdout",
     "output_type": "stream",
     "text": [
      "Average expected loss: 29.891\n",
      "Average bias: 28.609\n",
      "Average variance: 1.282\n"
     ]
    }
   ],
   "source": [
    "avg_expected_loss, avg_bias, avg_var = bias_variance_decomp(\n",
    "        reg_lr, X_train, y_train, X_test, y_test, \n",
    "        loss='mse',\n",
    "        random_seed=123)\n",
    "\n",
    "print('Average expected loss: %.3f' % avg_expected_loss)\n",
    "print('Average bias: %.3f' % avg_bias)\n",
    "print('Average variance: %.3f' % avg_var)"
   ]
  },
  {
   "cell_type": "code",
   "execution_count": null,
   "id": "49a35885",
   "metadata": {},
   "outputs": [],
   "source": []
  }
 ],
 "metadata": {
  "kernelspec": {
   "display_name": "Python (timeseries)",
   "language": "python",
   "name": "timeseries"
  },
  "language_info": {
   "codemirror_mode": {
    "name": "ipython",
    "version": 3
   },
   "file_extension": ".py",
   "mimetype": "text/x-python",
   "name": "python",
   "nbconvert_exporter": "python",
   "pygments_lexer": "ipython3",
   "version": "3.9.15"
  }
 },
 "nbformat": 4,
 "nbformat_minor": 5
}
