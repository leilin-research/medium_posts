{
 "cells": [
  {
   "cell_type": "code",
   "execution_count": 1,
   "id": "914ead5c",
   "metadata": {},
   "outputs": [],
   "source": [
    "import random\n",
    "import numpy as np\n",
    "import statsmodels.api as sm\n",
    "\n",
    "\n",
    "from mlxtend.evaluate import bias_variance_decomp\n",
    "from mlxtend.data import boston_housing_data\n",
    "from sklearn.model_selection import train_test_split\n",
    "from sklearn.metrics import mean_squared_error\n",
    "from sklearn.linear_model import LinearRegression\n",
    "\n",
    "\n",
    "import matplotlib.pyplot as plt"
   ]
  },
  {
   "cell_type": "markdown",
   "id": "e94fcc53",
   "metadata": {},
   "source": [
    "## Unbiased OLS"
   ]
  },
  {
   "cell_type": "markdown",
   "id": "3b92f788",
   "metadata": {},
   "source": [
    "- https://datascience.stackexchange.com/questions/74442/why-scikit-and-statsmodel-provide-different-coefficient-of-determination\n",
    "- https://www.youtube.com/watch?v=BsCgwERndJ0&ab_channel=BenLambert"
   ]
  },
  {
   "cell_type": "markdown",
   "id": "bc50f9e4",
   "metadata": {},
   "source": [
    "### Generate Data\n",
    "$$ y = \\beta_0 + \\beta_1 * x $$\n",
    "\n",
    "$$ \\hat{y} = b_0 + b_1 * x $$\n",
    "- $b_0$ is the estimator of $\\beta_0$\n",
    "- $b_1$ is the estimator of $\\beta_1$"
   ]
  },
  {
   "cell_type": "code",
   "execution_count": 2,
   "id": "0d42e658",
   "metadata": {},
   "outputs": [],
   "source": [
    "beta0 = 1\n",
    "beta1 = 1"
   ]
  },
  {
   "cell_type": "code",
   "execution_count": 3,
   "id": "07a070fc",
   "metadata": {},
   "outputs": [],
   "source": [
    "n = 10000 # sample size\n",
    "m = 1000 # Number of samples \n",
    "b1 = np.zeros([m,1]) # Store the estimated beta in a vector"
   ]
  },
  {
   "cell_type": "code",
   "execution_count": 4,
   "id": "12a419a0",
   "metadata": {},
   "outputs": [],
   "source": [
    "np.random.seed(1)\n",
    "for i in range(m):\n",
    "    X = sm.add_constant(np.arange(n)) # add a column of 1\n",
    "    y = np.dot(X, [beta0, beta1]) + np.random.normal(size=n) # generate data y = beta0 + beta1*x + noise\n",
    "    result = sm.OLS(y, X).fit()\n",
    "    b1[i] = result.params[0] # here we only focus on b1"
   ]
  },
  {
   "cell_type": "code",
   "execution_count": 5,
   "id": "b5b6d359",
   "metadata": {},
   "outputs": [
    {
     "data": {
      "text/plain": [
       "Text(1.0052110606136615, 93.555, 'Mean of b1: 1.0002')"
      ]
     },
     "execution_count": 5,
     "metadata": {},
     "output_type": "execute_result"
    },
    {
     "data": {
      "image/png": "[encoded data removed]",
      "text/plain": [
       "<Figure size 1000x800 with 1 Axes>"
      ]
     },
     "metadata": {},
     "output_type": "display_data"
    }
   ],
   "source": [
    "fig, ax = plt.subplots(1, 1, figsize = (10, 8))\n",
    "\n",
    "plt.hist(b1, bins=25,  edgecolor = \"black\")\n",
    "plt.xlabel('$b_1$', fontsize = 15)\n",
    "plt.ylabel('Frequency', fontsize = 15)\n",
    "# add mean of b1\n",
    "plt.axvline(b1.mean(), color='r', linestyle='dashed', linewidth=2)\n",
    "min_ylim, max_ylim = plt.ylim()\n",
    "plt.text(b1.mean()*1.005, max_ylim*0.9, 'Mean of b1: {:.4f}'.format(b1.mean()))"
   ]
  },
  {
   "cell_type": "markdown",
   "id": "1f8e3357",
   "metadata": {},
   "source": [
    "## Bias and Variance Decomposition"
   ]
  },
  {
   "cell_type": "markdown",
   "id": "8bc25073",
   "metadata": {},
   "source": [
    "### load data\n",
    "- http://rasbt.github.io/mlxtend/user_guide/data/boston_housing_data/#boston_housing_data-the-boston-housing-dataset-for-regression"
   ]
  },
  {
   "cell_type": "code",
   "execution_count": 6,
   "id": "5b2c2a15",
   "metadata": {},
   "outputs": [],
   "source": [
    "X, y = boston_housing_data()\n",
    "X_train, X_test, y_train, y_test = train_test_split(X, y,\n",
    "                                                    test_size=0.3,\n",
    "                                                    random_state=123,\n",
    "                                                    shuffle=True)"
   ]
  },
  {
   "cell_type": "markdown",
   "id": "b47e84f3",
   "metadata": {},
   "source": [
    "### Linear Regression"
   ]
  },
  {
   "cell_type": "code",
   "execution_count": 7,
   "id": "1889d0a8",
   "metadata": {},
   "outputs": [
    {
     "name": "stdout",
     "output_type": "stream",
     "text": [
      "The model performance for training set\n",
      "--------------------------------------\n",
      "RMSE is 4.492698146979513\n",
      "R2 score is 0.76\n",
      "\n",
      "\n",
      "The model performance for training set\n",
      "--------------------------------------\n",
      "RMSE is 5.329714327288869\n",
      "R2 score is 0.65\n",
      "\n",
      "\n"
     ]
    }
   ],
   "source": [
    "reg_lr = LinearRegression()\n",
    "reg_lr.fit(X_train, y_train)\n",
    "\n",
    "# model evaluation for training set\n",
    "\n",
    "y_train_predict = reg_lr.predict(X_train)\n",
    "rmse = (np.sqrt(mean_squared_error(y_train, y_train_predict)))\n",
    "r2 = round(reg_lr.score(X_train, y_train),2)\n",
    "\n",
    "print(\"The model performance for training set\")\n",
    "print(\"--------------------------------------\")\n",
    "print('RMSE is {}'.format(rmse))\n",
    "print('R2 score is {}'.format(r2))\n",
    "print(\"\\n\")\n",
    "\n",
    "y_test_predict = reg_lr.predict(X_test)\n",
    "rmse = (np.sqrt(mean_squared_error(y_test, y_test_predict)))\n",
    "r2 = round(reg_lr.score(X_test, y_test),2)\n",
    "\n",
    "print(\"The model performance for training set\")\n",
    "print(\"--------------------------------------\")\n",
    "print('RMSE is {}'.format(rmse))\n",
    "print('R2 score is {}'.format(r2))\n",
    "print(\"\\n\")"
   ]
  },
  {
   "cell_type": "markdown",
   "id": "8b8a63a3",
   "metadata": {},
   "source": [
    "### bias and variance decomposition on testing dataset\n",
    "- http://rasbt.github.io/mlxtend/user_guide/evaluate/bias_variance_decomp/"
   ]
  },
  {
   "cell_type": "code",
   "execution_count": 8,
   "id": "ab89f3fd",
   "metadata": {},
   "outputs": [
    {
     "name": "stdout",
     "output_type": "stream",
     "text": [
      "Average expected loss: 29.891\n",
      "Average bias: 28.609\n",
      "Average variance: 1.282\n"
     ]
    }
   ],
   "source": [
    "avg_expected_loss, avg_bias, avg_var = bias_variance_decomp(\n",
    "        reg_lr, X_train, y_train, X_test, y_test, \n",
    "        loss='mse',\n",
    "        random_seed=123)\n",
    "\n",
    "print('Average expected loss: %.3f' % avg_expected_loss)\n",
    "print('Average bias: %.3f' % avg_bias)\n",
    "print('Average variance: %.3f' % avg_var)"
   ]
  }
 ],
 "metadata": {
  "kernelspec": {
   "display_name": "Python (timeseries)",
   "language": "python",
   "name": "timeseries"
  },
  "language_info": {
   "codemirror_mode": {
    "name": "ipython",
    "version": 3
   },
   "file_extension": ".py",
   "mimetype": "text/x-python",
   "name": "python",
   "nbconvert_exporter": "python",
   "pygments_lexer": "ipython3",
   "version": "3.9.15"
  }
 },
 "nbformat": 4,
 "nbformat_minor": 5
}
